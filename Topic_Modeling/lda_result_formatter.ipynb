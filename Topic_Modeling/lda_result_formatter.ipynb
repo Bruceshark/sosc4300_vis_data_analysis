{
 "cells": [
  {
   "cell_type": "code",
   "execution_count": 23,
   "id": "original-immigration",
   "metadata": {},
   "outputs": [],
   "source": [
    "import json"
   ]
  },
  {
   "cell_type": "code",
   "execution_count": 24,
   "id": "cordless-sport",
   "metadata": {},
   "outputs": [],
   "source": [
    "f = open('lda_result.txt', 'r')\n",
    "content = f.read()"
   ]
  },
  {
   "cell_type": "code",
   "execution_count": 25,
   "id": "mounted-abuse",
   "metadata": {},
   "outputs": [],
   "source": [
    "raw_list = content.split(\"\\n\\n\")"
   ]
  },
  {
   "cell_type": "code",
   "execution_count": 26,
   "id": "published-valuation",
   "metadata": {},
   "outputs": [],
   "source": [
    "topic_list = []\n",
    "for idx, raw_str in enumerate(raw_list):\n",
    "    word_list = []\n",
    "    raw_word_list = raw_str.split(\" + \")\n",
    "    for word_str in raw_word_list:\n",
    "        val = word_str.split(\"*\")[0]\n",
    "        word = word_str.split(\"*\")[1][1:-1]\n",
    "        word_list.append({'word': word, 'value': float(val)})\n",
    "    topic_list.append({'topic': f\"topic{idx + 1}\", 'word_list': word_list})\n",
    "    \n",
    "with open('./lda_topics.json', 'w') as f:\n",
    "    json.dump(topic_list, f)"
   ]
  },
  {
   "cell_type": "code",
   "execution_count": null,
   "id": "pressed-target",
   "metadata": {},
   "outputs": [],
   "source": []
  }
 ],
 "metadata": {
  "kernelspec": {
   "display_name": "Python 3",
   "language": "python",
   "name": "python3"
  },
  "language_info": {
   "codemirror_mode": {
    "name": "ipython",
    "version": 3
   },
   "file_extension": ".py",
   "mimetype": "text/x-python",
   "name": "python",
   "nbconvert_exporter": "python",
   "pygments_lexer": "ipython3",
   "version": "3.9.1"
  }
 },
 "nbformat": 4,
 "nbformat_minor": 5
}
